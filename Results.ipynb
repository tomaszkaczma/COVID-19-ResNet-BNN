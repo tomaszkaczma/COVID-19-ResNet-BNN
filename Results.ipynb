{
 "cells": [
  {
   "cell_type": "markdown",
   "id": "e9440a1d",
   "metadata": {},
   "source": [
    "#Results"
   ]
  },
  {
   "cell_type": "code",
   "execution_count": null,
   "id": "82f485ad",
   "metadata": {},
   "outputs": [],
   "source": [
    "#confusion matrix f1 ROC"
   ]
  },
  {
   "cell_type": "code",
   "execution_count": 2,
   "id": "973026cf",
   "metadata": {},
   "outputs": [
    {
     "name": "stderr",
     "output_type": "stream",
     "text": [
      "C:\\Users\\tkaczmarski\\.conda\\envs\\pracamgr1\\lib\\site-packages\\ray\\autoscaler\\_private\\cli_logger.py:57: FutureWarning: Not all Ray CLI dependencies were found. In Ray 1.4+, the Ray CLI, autoscaler, and dashboard will only be usable via `pip install 'ray[default]'`. Please update your install command.\n",
      "  warnings.warn(\n"
     ]
    }
   ],
   "source": [
    "from sklearn.metrics import multilabel_confusion_matrix\n",
    "import torch\n",
    "import numpy as np\n",
    "from torch.utils.data import Dataset, DataLoader\n",
    "from ray import tune"
   ]
  },
  {
   "cell_type": "code",
   "execution_count": 3,
   "id": "04dc1c0b",
   "metadata": {},
   "outputs": [],
   "source": [
    "import seaborn as sns\n",
    "from sklearn.metrics import confusion_matrix\n",
    "from sklearn import metrics"
   ]
  },
  {
   "cell_type": "code",
   "execution_count": 33,
   "id": "ab79cb21",
   "metadata": {},
   "outputs": [],
   "source": [
    "y_pred  =torch.load('pred_total.pt')\n",
    "y_true = torch.load('target_total.pt')"
   ]
  },
  {
   "cell_type": "code",
   "execution_count": 35,
   "id": "21a1b887",
   "metadata": {},
   "outputs": [],
   "source": [
    "y_truelist =[]\n",
    "for i in y_true:\n",
    "    y_truelist.append(i.numpy())\n",
    "    \n",
    "y_predlist =[]\n",
    "for i in y_pred:\n",
    "    y_predlist.append(i.numpy())\n"
   ]
  },
  {
   "cell_type": "code",
   "execution_count": 36,
   "id": "7480d415",
   "metadata": {},
   "outputs": [],
   "source": [
    "pred_flat_list = []\n",
    "for sublist in y_pred:\n",
    "    for item in sublist:\n",
    "        pred_flat_list.append(item)\n",
    "        \n",
    "true_flat_list = []\n",
    "for sublist in y_true:\n",
    "    for item in sublist:\n",
    "        true_flat_list.append(item)"
   ]
  },
  {
   "cell_type": "code",
   "execution_count": 21,
   "id": "c7c665ee",
   "metadata": {},
   "outputs": [],
   "source": [
    "pred_arr = np.asarray(pred_flat_list)\n",
    "true_arr = np.asarray(true_flat_list)"
   ]
  },
  {
   "cell_type": "code",
   "execution_count": 22,
   "id": "cdf0d839",
   "metadata": {},
   "outputs": [
    {
     "data": {
      "text/plain": [
       "array([[[11654,   191],\n",
       "        [   87,  9259]],\n",
       "\n",
       "       [[13387,   154],\n",
       "        [  409,  7241]],\n",
       "\n",
       "       [[16723,   273],\n",
       "        [  122,  4073]]], dtype=int64)"
      ]
     },
     "execution_count": 22,
     "metadata": {},
     "output_type": "execute_result"
    }
   ],
   "source": [
    "multilabel_confusion_matrix(pred_flat_list, true_flat_list)"
   ]
  },
  {
   "cell_type": "code",
   "execution_count": 24,
   "id": "d0332a46",
   "metadata": {},
   "outputs": [],
   "source": [
    "#make_confusion_matrix(cf_matrix_3x3, figsize=(8,6), cbar=False)\n",
    "cf_matrix = confusion_matrix(true_flat_list, pred_flat_list)"
   ]
  },
  {
   "cell_type": "code",
   "execution_count": 25,
   "id": "a6853380",
   "metadata": {},
   "outputs": [],
   "source": [
    "x_axis_labels = ['normal', 'CP', 'covid-19'] # labels for x-axis\n",
    "y_axis_labels = ['normal', 'CP', 'covid-19'] # labels for y-axis"
   ]
  },
  {
   "cell_type": "code",
   "execution_count": 27,
   "id": "472603a6",
   "metadata": {},
   "outputs": [
    {
     "data": {
      "text/plain": [
       "<AxesSubplot:>"
      ]
     },
     "execution_count": 27,
     "metadata": {},
     "output_type": "execute_result"
    },
    {
     "data": {
      "image/png": "[encoded data removed]",
      "text/plain": [
       "<Figure size 432x288 with 2 Axes>"
      ]
     },
     "metadata": {
      "needs_background": "light"
     },
     "output_type": "display_data"
    }
   ],
   "source": [
    "sns.heatmap(cf_matrix/np.sum(cf_matrix), annot=True, \n",
    "            fmt='.2%', cmap='Blues')"
   ]
  },
  {
   "cell_type": "code",
   "execution_count": 29,
   "id": "cf38174e",
   "metadata": {},
   "outputs": [],
   "source": [
    "target_names = ['normal', 'CP', 'covid-19'] #covid-19, CP, normal"
   ]
  },
  {
   "cell_type": "code",
   "execution_count": null,
   "id": "87bab9ee",
   "metadata": {},
   "outputs": [],
   "source": [
    "#ResNet50\n",
    "print(metrics.classification_report(pred_flat_list, true_flat_list, target_names=target_names))"
   ]
  },
  {
   "cell_type": "code",
   "execution_count": 30,
   "id": "cf0919c3",
   "metadata": {},
   "outputs": [
    {
     "name": "stdout",
     "output_type": "stream",
     "text": [
      "              precision    recall  f1-score   support\n",
      "\n",
      "      normal       0.98      0.99      0.99      9346\n",
      "          CP       0.98      0.95      0.96      7650\n",
      "    covid-19       0.94      0.97      0.95      4195\n",
      "\n",
      "    accuracy                           0.97     21191\n",
      "   macro avg       0.97      0.97      0.97     21191\n",
      "weighted avg       0.97      0.97      0.97     21191\n",
      "\n"
     ]
    }
   ],
   "source": [
    "#ResNet34\n",
    "print(metrics.classification_report(pred_flat_list, true_flat_list, target_names=target_names))"
   ]
  },
  {
   "cell_type": "code",
   "execution_count": 14,
   "id": "c787e426",
   "metadata": {},
   "outputs": [
    {
     "name": "stdout",
     "output_type": "stream",
     "text": [
      "              precision    recall  f1-score   support\n",
      "\n",
      "      normal       1.00      0.98      0.99      9647\n",
      "          CP       0.97      0.95      0.96      7514\n",
      "    covid-19       0.92      0.99      0.96      4030\n",
      "\n",
      "    accuracy                           0.97     21191\n",
      "   macro avg       0.96      0.97      0.97     21191\n",
      "weighted avg       0.97      0.97      0.97     21191\n",
      "\n"
     ]
    }
   ],
   "source": [
    "#ResNet18\n",
    "print(metrics.classification_report(pred_flat_list, true_flat_list, target_names=target_names))"
   ]
  },
  {
   "cell_type": "code",
   "execution_count": null,
   "id": "a497a759",
   "metadata": {},
   "outputs": [],
   "source": [
    "#BNN Results"
   ]
  },
  {
   "cell_type": "code",
   "execution_count": 4,
   "id": "d578ab2e",
   "metadata": {},
   "outputs": [],
   "source": [
    "y_pred  =torch.load('BNN_pred_total.pt')\n",
    "y_true = torch.load('BNN_target_total.pt')"
   ]
  },
  {
   "cell_type": "code",
   "execution_count": 5,
   "id": "66582be4",
   "metadata": {},
   "outputs": [],
   "source": [
    "y_truelist =[]\n",
    "for i in y_true:\n",
    "    y_truelist.append(i.numpy())\n",
    "    \n",
    "y_predlist =[]\n",
    "for i in y_pred:\n",
    "    y_truelist.append(i.numpy())\n"
   ]
  },
  {
   "cell_type": "code",
   "execution_count": 6,
   "id": "b47402fb",
   "metadata": {},
   "outputs": [],
   "source": [
    "pred_flat_list = []\n",
    "for sublist in y_pred:\n",
    "    for item in sublist:\n",
    "        pred_flat_list.append(item)\n",
    "        \n",
    "true_flat_list = []\n",
    "for sublist in y_true:\n",
    "    for item in sublist:\n",
    "        true_flat_list.append(item)"
   ]
  },
  {
   "cell_type": "code",
   "execution_count": 7,
   "id": "dfee6f69",
   "metadata": {},
   "outputs": [],
   "source": [
    "pred_arr = np.asarray(pred_flat_list)\n",
    "true_arr = np.asarray(true_flat_list)"
   ]
  },
  {
   "cell_type": "code",
   "execution_count": 8,
   "id": "9cd4d918",
   "metadata": {},
   "outputs": [],
   "source": [
    "#make_confusion_matrix(cf_matrix_3x3, figsize=(8,6), cbar=False)\n",
    "cf_matrix = confusion_matrix(true_flat_list, pred_flat_list)"
   ]
  },
  {
   "cell_type": "code",
   "execution_count": 9,
   "id": "9e261c50",
   "metadata": {},
   "outputs": [
    {
     "data": {
      "text/plain": [
       "<AxesSubplot:>"
      ]
     },
     "execution_count": 9,
     "metadata": {},
     "output_type": "execute_result"
    },
    {
     "data": {
      "image/png": "[encoded data removed]",
      "text/plain": [
       "<Figure size 432x288 with 2 Axes>"
      ]
     },
     "metadata": {
      "needs_background": "light"
     },
     "output_type": "display_data"
    }
   ],
   "source": [
    "sns.heatmap(cf_matrix/np.sum(cf_matrix), annot=True, \n",
    "            fmt='.2%', cmap='Blues')"
   ]
  },
  {
   "cell_type": "code",
   "execution_count": 10,
   "id": "aa17bae6",
   "metadata": {},
   "outputs": [],
   "source": [
    "target_names = ['normal', 'CP', 'covid-19'] #covid-19, CP, normal"
   ]
  },
  {
   "cell_type": "code",
   "execution_count": 11,
   "id": "d8eceda1",
   "metadata": {},
   "outputs": [
    {
     "name": "stdout",
     "output_type": "stream",
     "text": [
      "              precision    recall  f1-score   support\n",
      "\n",
      "      normal       0.62      0.58      0.60     10073\n",
      "          CP       0.28      0.40      0.33      5256\n",
      "    covid-19       0.57      0.42      0.48      5862\n",
      "\n",
      "    accuracy                           0.49     21191\n",
      "   macro avg       0.49      0.47      0.47     21191\n",
      "weighted avg       0.52      0.49      0.50     21191\n",
      "\n"
     ]
    }
   ],
   "source": [
    "print(metrics.classification_report(pred_flat_list, true_flat_list, target_names=target_names))"
   ]
  },
  {
   "cell_type": "code",
   "execution_count": 13,
   "id": "0406d5c9",
   "metadata": {},
   "outputs": [],
   "source": [
    "#ROC CURVE BNN"
   ]
  },
  {
   "cell_type": "code",
   "execution_count": 15,
   "id": "eb9eb1b9",
   "metadata": {},
   "outputs": [],
   "source": [
    "#y = label_binarize(y, classes=[0, 1, 2])\n",
    "#n_classes = y.shape[1]"
   ]
  },
  {
   "cell_type": "code",
   "execution_count": 16,
   "id": "ee563998",
   "metadata": {},
   "outputs": [],
   "source": [
    "ytest = true_arr #np.array([1,0,0,2,1,0,2])\n",
    "ypred = pred_arr #np.array([1,0,0,2,1, 0,2])\n",
    "#ytrain = true_arr#train_arr#np.array([1,0,0,2,1, 0,2])"
   ]
  },
  {
   "cell_type": "code",
   "execution_count": null,
   "id": "0dad6cec",
   "metadata": {},
   "outputs": [],
   "source": [
    "import matplotlib.pyplot as plt \n",
    "from sklearn.preprocessing import LabelBinarizer\n",
    "from sklearn.metrics import roc_curve, auc, roc_auc_score\n",
    "\n",
    "\n",
    "# set plot figure size\n",
    "fig, c_ax = plt.subplots(1,1, figsize = (12, 8))\n",
    "\n",
    "\n",
    "target= ['Normal','CP','Covid-19']\n",
    "\n",
    "# function for scoring roc auc score for multi-class\n",
    "def multiclass_roc_auc_score(y_test, y_pred, average=\"macro\"):\n",
    "    lb = LabelBinarizer()\n",
    "    lb.fit(y_test)\n",
    "    y_test = lb.transform(y_test)\n",
    "    y_pred = lb.transform(y_pred)\n",
    "\n",
    "    for (idx, c_label) in enumerate(target):\n",
    "        fpr, tpr, thresholds = roc_curve(y_test[:,idx].astype(int), y_pred[:,idx])\n",
    "        c_ax.plot(fpr, tpr, label = '%s (AUC:%0.2f)'  % (c_label, auc(fpr, tpr)))\n",
    "    c_ax.plot(fpr, fpr, 'b-', label = 'Random Guessing')\n",
    "    return roc_auc_score(y_test, y_pred, average=average)\n",
    "\n",
    "\n",
    "print('ROC AUC score:', multiclass_roc_auc_score(ytest, ypred))\n",
    "\n",
    "c_ax.legend()\n",
    "c_ax.set_xlabel('False Positive Rate')\n",
    "c_ax.set_ylabel('True Positive Rate')\n",
    "plt.show()"
   ]
  },
  {
   "cell_type": "code",
   "execution_count": 18,
   "id": "551e922b",
   "metadata": {},
   "outputs": [],
   "source": [
    "#ROC RESNET"
   ]
  },
  {
   "cell_type": "code",
   "execution_count": 47,
   "id": "201db891",
   "metadata": {},
   "outputs": [],
   "source": [
    "y_pred  =torch.load('pred_total.pt')\n",
    "y_true = torch.load('target_total.pt')"
   ]
  },
  {
   "cell_type": "code",
   "execution_count": 49,
   "id": "fe29e735",
   "metadata": {},
   "outputs": [],
   "source": [
    "y_truelist =[]\n",
    "for i in y_true:\n",
    "    y_truelist.append(i.numpy())\n",
    "    \n",
    "y_predlist =[]\n",
    "for i in y_pred:\n",
    "    y_predlist.append(i.numpy())\n"
   ]
  },
  {
   "cell_type": "code",
   "execution_count": 50,
   "id": "e965b346",
   "metadata": {},
   "outputs": [],
   "source": [
    "pred_flat_list = []\n",
    "for sublist in y_pred:\n",
    "    for item in sublist:\n",
    "        pred_flat_list.append(item)\n",
    "        \n",
    "true_flat_list = []\n",
    "for sublist in y_true:\n",
    "    for item in sublist:\n",
    "        true_flat_list.append(item)"
   ]
  },
  {
   "cell_type": "code",
   "execution_count": 51,
   "id": "ad20ca74",
   "metadata": {},
   "outputs": [],
   "source": [
    "pred_arr = np.asarray(pred_flat_list)\n",
    "true_arr = np.asarray(true_flat_list)"
   ]
  },
  {
   "cell_type": "code",
   "execution_count": 52,
   "id": "329e9ff0",
   "metadata": {},
   "outputs": [],
   "source": [
    "ytest = true_arr #np.array([1,0,0,2,1,0,2])\n",
    "ypred = pred_arr #np.array([1,0,0,2,1, 0,2])\n",
    "#ytrain = true_arr#train_arr#np.array([1,0,0,2,1, 0,2])"
   ]
  },
  {
   "cell_type": "code",
   "execution_count": 53,
   "id": "d318748a",
   "metadata": {},
   "outputs": [
    {
     "name": "stdout",
     "output_type": "stream",
     "text": [
      "ROC AUC score: 0.9601202438547616\n"
     ]
    },
    {
     "data": {
      "image/png": "[encoded data removed]",
      "text/plain": [
       "<Figure size 864x576 with 1 Axes>"
      ]
     },
     "metadata": {
      "needs_background": "light"
     },
     "output_type": "display_data"
    }
   ],
   "source": [
    "import matplotlib.pyplot as plt \n",
    "from sklearn.preprocessing import LabelBinarizer\n",
    "from sklearn.metrics import roc_curve, auc, roc_auc_score\n",
    "\n",
    "\n",
    "# set plot figure size\n",
    "fig, c_ax = plt.subplots(1,1, figsize = (12, 8))\n",
    "\n",
    "\n",
    "target= ['Normal','CP','Covid-19']\n",
    "\n",
    "# function for scoring roc auc score for multi-class\n",
    "def multiclass_roc_auc_score(y_test, y_pred, average=\"macro\"):\n",
    "    lb = LabelBinarizer()\n",
    "    lb.fit(y_test)\n",
    "    y_test = lb.transform(y_test)\n",
    "    y_pred = lb.transform(y_pred)\n",
    "\n",
    "    for (idx, c_label) in enumerate(target):\n",
    "        fpr, tpr, thresholds = roc_curve(y_test[:,idx].astype(int), y_pred[:,idx])\n",
    "        c_ax.plot(fpr, tpr, label = '%s (AUC:%0.2f)'  % (c_label, auc(fpr, tpr)))\n",
    "    c_ax.plot(fpr, fpr, 'b-', label = 'Random Guessing')\n",
    "    return roc_auc_score(y_test, y_pred, average=average)\n",
    "\n",
    "\n",
    "print('ROC AUC score:', multiclass_roc_auc_score(ytest, ypred))\n",
    "\n",
    "c_ax.legend()\n",
    "c_ax.set_xlabel('False Positive Rate')\n",
    "c_ax.set_ylabel('True Positive Rate')\n",
    "plt.show()"
   ]
  },
  {
   "cell_type": "code",
   "execution_count": null,
   "id": "ab7ee339",
   "metadata": {},
   "outputs": [],
   "source": []
  }
 ],
 "metadata": {
  "kernelspec": {
   "display_name": "Python 3",
   "language": "python",
   "name": "python3"
  },
  "language_info": {
   "codemirror_mode": {
    "name": "ipython",
    "version": 3
   },
   "file_extension": ".py",
   "mimetype": "text/x-python",
   "name": "python",
   "nbconvert_exporter": "python",
   "pygments_lexer": "ipython3",
   "version": "3.8.10"
  }
 },
 "nbformat": 4,
 "nbformat_minor": 5
}
