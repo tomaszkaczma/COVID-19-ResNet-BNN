{
 "cells": [
  {
   "cell_type": "markdown",
   "id": "a6a36141",
   "metadata": {},
   "source": [
    "#Resnet Training"
   ]
  },
  {
   "cell_type": "code",
   "execution_count": 1,
   "id": "fa12c5bb",
   "metadata": {},
   "outputs": [],
   "source": [
    "from __future__ import print_function, division\n",
    "import os\n",
    "import torch\n",
    "import pandas as pd\n",
    "#from skimage.color import rgb2gray\n",
    "from skimage import io, transform\n",
    "import numpy as np\n",
    "import matplotlib.pyplot as plt\n",
    "import torchvision\n",
    "from torch.utils.data import Dataset, DataLoader\n",
    "from torchvision import transforms, utils,datasets, models\n",
    "import torch.nn as nn\n",
    "import torch.nn.functional as F\n",
    "import torch.optim as optim\n",
    "from torch.optim import lr_scheduler\n",
    "import time\n",
    "import os\n",
    "import copy\n",
    "import pickle\n",
    "# Ignore warnings\n",
    "import warnings\n",
    "warnings.filterwarnings(\"ignore\")\n",
    "#from torchvision import datasets, models, transforms\n",
    "device = torch.device(\"cuda:0\" if torch.cuda.is_available() else \"cpu\")\n",
    "from PIL import Image\n",
    "from sklearn.metrics import f1_score\n",
    "plt.ion()   # interactive mode\n",
    "from datetime import datetime\n",
    "from ray import tune\n",
    "from ray.tune import CLIReporter\n",
    "from ray.tune.schedulers import ASHAScheduler"
   ]
  },
  {
   "cell_type": "code",
   "execution_count": 2,
   "id": "3406ba85",
   "metadata": {},
   "outputs": [],
   "source": [
    "Train = torch.load('trainlist.pt')"
   ]
  },
  {
   "cell_type": "code",
   "execution_count": 3,
   "id": "3c728354",
   "metadata": {},
   "outputs": [],
   "source": [
    "Valid = torch.load('vallist.pt')"
   ]
  },
  {
   "cell_type": "code",
   "execution_count": null,
   "id": "a2477ee4",
   "metadata": {},
   "outputs": [],
   "source": [
    "Test = torch.load('Testlist.pt')"
   ]
  },
  {
   "cell_type": "code",
   "execution_count": null,
   "id": "3af6a640",
   "metadata": {},
   "outputs": [],
   "source": [
    "#check dataset size\n",
    "print(len(list(Valid)))\n",
    "print(len(list(Train)))\n",
    "print(len(list(Test)))"
   ]
  },
  {
   "cell_type": "code",
   "execution_count": 11,
   "id": "10890328",
   "metadata": {},
   "outputs": [],
   "source": [
    "config = {\n",
    "    \"l1\": tune.sample_from(lambda _: 2**np.random.randint(2, 9)),\n",
    "    \"l2\": tune.sample_from(lambda _: 2**np.random.randint(2, 9)),\n",
    "    \"lr\": np.random.uniform(1e-4, 1e-1),\n",
    "    \"batch_size\": np.random.choice([64]),\n",
    "    \"momentum\": np.random.uniform( 0.1, 0.9)\n",
    "}\n",
    "\n"
   ]
  },
  {
   "cell_type": "code",
   "execution_count": 6,
   "id": "e96b8aa2",
   "metadata": {},
   "outputs": [],
   "source": [
    "#train_dataloader = DataLoader(Train, int(config[\"batch_size\"]),\n",
    "train_dataloader = DataLoader(Train, int(config[\"batch_size\"]),\n",
    "                        shuffle=True, num_workers=0)\n"
   ]
  },
  {
   "cell_type": "code",
   "execution_count": 7,
   "id": "7a7b4962",
   "metadata": {},
   "outputs": [],
   "source": [
    "val_dataloader = DataLoader(Valid, int(config[\"batch_size\"]),\n",
    "                        shuffle=True, num_workers=0)\n",
    "\n",
    "device = torch.device('cuda:0' if torch.cuda.is_available() else 'cpu')"
   ]
  },
  {
   "cell_type": "code",
   "execution_count": null,
   "id": "c5c66e43",
   "metadata": {},
   "outputs": [],
   "source": [
    "#net = models.resnet18(config[\"l1\"], config[\"l2\"])\n",
    "#net = models.resnet18(config[\"l1\"], config[\"l2\"])\n",
    "#net = models.resnet34(config[\"l1\"], config[\"l2\"])\n",
    "\n",
    "\n",
    "#net = models.resnet50()#(config[\"l1\"], config[\"l2\"])\n",
    "#net = models.resnet101()#(config[\"l1\"], config[\"l2\"])\n",
    "net = models.resnet152(config[\"l1\"], config[\"l2\"])\n",
    "#net = net.cuda() if device else net\n",
    "#net"
   ]
  },
  {
   "cell_type": "code",
   "execution_count": 9,
   "id": "e1d799d6",
   "metadata": {},
   "outputs": [],
   "source": [
    "criterion = nn.CrossEntropyLoss()\n",
    "optimizer = optim.SGD(net.parameters(), lr=config[\"lr\"], momentum=config[\"momentum\"],  weight_decay=config[\"weight_decay\"])\n",
    "\n",
    "scheduler = torch.optim.lr_scheduler.CyclicLR(optimizer, config[\"lr\"])\n"
   ]
  },
  {
   "cell_type": "code",
   "execution_count": null,
   "id": "85ac4d6f",
   "metadata": {},
   "outputs": [],
   "source": [
    "n_epochs = 5\n",
    "print_every = 10\n",
    "valid_loss_min = np.Inf\n",
    "val_loss = []\n",
    "val_acc = []\n",
    "train_loss = []\n",
    "train_acc = []\n",
    "pred_total =[]\n",
    "target_total = []\n",
    "f1_train_total = []\n",
    "f1_val_total = []\n",
    "total_step = len(train_dataloader)\n",
    "since = time.time()\n",
    "for epoch in range(1, n_epochs+1):\n",
    "    running_loss = 0.0\n",
    "    correct = 0\n",
    "    total=0\n",
    "    print(f'Epoch {epoch}\\n')\n",
    "    for batch_idx, (data_, target_) in enumerate(train_dataloader):\n",
    " \n",
    "        data_, target_ = data_.to(device), target_.to(device)\n",
    "            \n",
    "        # Compute prediction and loss\n",
    "        outputs = net(data_.float())\n",
    "        loss = criterion(outputs, target_.flatten().type(torch.LongTensor))\n",
    "        \n",
    "        \n",
    "        # Backpropagation and param tunning\n",
    "        optimizer.zero_grad()\n",
    "        loss.backward()\n",
    "        optimizer.step()  \n",
    "        #STATS\n",
    "        running_loss += loss.item()       \n",
    "        _,pred = torch.max(outputs.float(), dim=1)\n",
    "        correct += torch.sum(pred==target_).item()\n",
    "        total += target_.size(0)\n",
    "        #lr=config[\"lr\"]\n",
    "        #print(pred)\n",
    "        #print(target_)\n",
    "        f1 = f1_score(target_, pred, average='micro')\n",
    "        #train_acc.append(100 * correct / total)\n",
    "        f1_train_total.append(f1)\n",
    "        #print(f1)\n",
    "        pred_total.append(pred)\n",
    "        target_total.append(target_)\n",
    "        batch_size =int(config[\"batch_size\"])\n",
    "        if (batch_idx) % 20 == 0:\n",
    "            print ('Epoch [{}/{}], Step [{}/{}], LR:[{}], batch_size:[{}], Loss: {:.4f}, f1: {:.4f},acc: {:.4f}'\n",
    "                   .format(epoch, n_epochs, batch_idx, total_step,optimizer.param_groups[0]['lr'],batch_size, loss.item(),f1,(100 * correct/total)))\n",
    "            dateTimeObj = datetime.now()\n",
    "            print(dateTimeObj)\n",
    "           #print(optimizer.param_groups[0]['lr'])\n",
    "           # print(lr_scheduler.get_lr())\n",
    "    #torch.save(pred_total, 'pred_total.pt')\n",
    "    #torch.save(target_total, 'target_total.pt')\n",
    "    scheduler.step()#to test\n",
    "\n",
    "    train_acc.append(100 * correct / total)\n",
    "    train_loss.append(running_loss/total_step)\n",
    "\n",
    "    print(f'\\ntrain-loss: {np.mean(train_loss):.4f}, f1: {(f1):.4f}')\n",
    "    print(f'\\correct: {correct:.4f}, total: {total:.4f}, train-acc: {(100 * correct/total):.4f}')\n",
    "    batch_loss = 0\n",
    "    total_t=0\n",
    "    correct_t=0\n",
    "    with torch.no_grad():\n",
    "        net.eval() # switch to eval mode\n",
    "        for data_t, target_t in (val_dataloader):\n",
    "            data_t, target_t = data_t.to(device), target_t.to(device)\n",
    "            outputs_t = net(data_t.float())\n",
    "            loss_t = criterion(outputs_t.float(), target_t.flatten().type(torch.LongTensor))\n",
    "            batch_loss += loss_t.item()\n",
    "            \n",
    "            _,pred_t = torch.max(outputs_t.float(), dim=1)\n",
    "            correct_t += torch.sum(pred_t==target_t).item()\n",
    "            #print(pred_t)\n",
    "            #print(target_t)\n",
    "            total_t += target_t.size(0)\n",
    "            f1_val = f1_score(target_t, pred_t, average='micro')\n",
    "            f1_val_total.append(f1_val)\n",
    "        val_acc.append(100 * correct_t/total_t)\n",
    "        val_loss.append(batch_loss/len(val_dataloader))\n",
    "        network_learned = batch_loss < valid_loss_min\n",
    "        print(f'validation loss: {np.mean(val_loss):.4f}, validation f1: {(f1_val):}\\n') #{(100 * correct_t/total_t):.4f}\\n')\n",
    "        print(f'corret: {correct_t:.4f}, total: {total_t:.4f}, validation acc: {(100 * correct_t/total_t):.4f}\\n')\n",
    "        #save results\n",
    "        f1_val_total.append(f1_val)\n",
    "        #Pickling results\n",
    "        with open(\"train_acc152.txt\", \"wb\") as fp:   \n",
    "                pickle.dump(train_acc, fp)\n",
    "        with open(\"train_loss152.txt\", \"wb\") as fp:   \n",
    "                pickle.dump(train_loss, fp)\n",
    "        with open(\"val_acc152101.txt\", \"wb\") as fp:   \n",
    "                pickle.dump(val_acc, fp)\n",
    "        with open(\"val_loss152.txt\", \"wb\") as fp:   \n",
    "                pickle.dump(val_loss, fp)\n",
    "        with open(\"train_f1152.txt\", \"wb\") as fp:   \n",
    "                pickle.dump(f1_train_total, fp)\n",
    "        with open(\"val_f1152.txt\", \"wb\") as fp:   \n",
    "                pickle.dump(f1_val_total, fp) \n",
    "        #with open(\"train_pred_total.txt\", \"wb\") as fp:   \n",
    "        #        pickle.dump(train_acc, fp)\n",
    "        #with open(\"train_target_total.txt\", \"wb\") as fp:   \n",
    "        #        pickle.dump(train_loss, fp)\n",
    "        \n",
    "        \n",
    "        if network_learned:\n",
    "            valid_loss_min = batch_loss\n",
    "            print('Improvement-Detected, save-model')\n",
    "            #torch.save(net.state_dict(), 'resnet52.pt')\n",
    "            #torch.save(net.state_dict(), 'resnet32_1.pt')\n",
    "            #torch.save(net.state_dict(), 'resnet50.pt')\n",
    "            #torch.save(net.state_dict(), 'resnet101.pt')\n",
    "            torch.save(net.state_dict(), 'resnet152.pt')\n",
    "\n",
    "            \n",
    "   \n",
    "    net.train()# switch back to train mode\n",
    "    #7min\n",
    "    "
   ]
  },
  {
   "cell_type": "code",
   "execution_count": 12,
   "id": "fcd09fc0",
   "metadata": {},
   "outputs": [],
   "source": [
    "with open(\"train_acc152.txt\", \"rb\") as fp:   \n",
    "        train_acc = pickle.load(fp)\n",
    "with open(\"val_acc152.txt\", \"rb\") as fp:   \n",
    "        val_acc = pickle.load(fp) "
   ]
  },
  {
   "cell_type": "code",
   "execution_count": 13,
   "id": "881938d5",
   "metadata": {},
   "outputs": [
    {
     "data": {
      "text/plain": [
       "<matplotlib.legend.Legend at 0x1a88f8131f0>"
      ]
     },
     "execution_count": 13,
     "metadata": {},
     "output_type": "execute_result"
    },
    {
     "data": {
      "image/png": "[encoded data removed]",
      "text/plain": [
       "<Figure size 1440x720 with 1 Axes>"
      ]
     },
     "metadata": {
      "needs_background": "light"
     },
     "output_type": "display_data"
    }
   ],
   "source": [
    "fig = plt.figure(figsize=(20,10))\n",
    "plt.title(\"Train-Validation loss\")\n",
    "plt.plot(train_acc, label='train loss')\n",
    "plt.plot(val_acc, label='validation loss')\n",
    "plt.xlabel('num_epochs', fontsize=12)\n",
    "plt.ylabel('accuracy', fontsize=12)\n",
    "plt.legend(loc='best')"
   ]
  },
  {
   "cell_type": "code",
   "execution_count": 2,
   "id": "adf15661",
   "metadata": {},
   "outputs": [],
   "source": [
    "test = torch.load('testlist.pt')"
   ]
  },
  {
   "cell_type": "code",
   "execution_count": 14,
   "id": "e0e697e7",
   "metadata": {},
   "outputs": [],
   "source": [
    "config = {\n",
    "\n",
    "    \"lr\": 0.01,\n",
    "    \"batch_size\": np.random.choice([64]),\n",
    "    \"momentum\": np.random.uniform( 0.8)\n",
    "}\n"
   ]
  },
  {
   "cell_type": "code",
   "execution_count": 4,
   "id": "5afadbdb",
   "metadata": {},
   "outputs": [],
   "source": [
    "test_dataloader = DataLoader(test, int(config[\"batch_size\"]),\n",
    "                        shuffle=True, num_workers=0)"
   ]
  },
  {
   "cell_type": "code",
   "execution_count": null,
   "id": "7d005529",
   "metadata": {},
   "outputs": [],
   "source": [
    "net = models.resnet50()\n",
    "net.load_state_dict(torch.load('resnet50.pt'))\n",
    "net.eval()"
   ]
  },
  {
   "cell_type": "code",
   "execution_count": 6,
   "id": "316732f9",
   "metadata": {},
   "outputs": [],
   "source": [
    "criterion = nn.CrossEntropyLoss()\n",
    "optimizer = optim.SGD(net.parameters(), lr=config[\"lr\"], momentum=config[\"momentum\"])\n",
    "\n",
    "scheduler = torch.optim.lr_scheduler.CyclicLR(optimizer, base_lr=config[\"lr\"])"
   ]
  },
  {
   "cell_type": "code",
   "execution_count": null,
   "id": "086c1dcc",
   "metadata": {},
   "outputs": [],
   "source": [
    "#Test for results\n",
    "valid_loss_min = np.Inf\n",
    "batch_loss = 0\n",
    "total_t=0\n",
    "correct_t=0\n",
    "val_loss = []\n",
    "val_acc = []\n",
    "pred_total =[]\n",
    "target_total = []\n",
    "torchpred_total = torch.tensor([])\n",
    "torchtarget_total = torch.tensor([])\n",
    "with torch.no_grad():\n",
    "    net.eval()\n",
    "    for data_t, target_t in (test_dataloader):\n",
    "        data_t, target_t = data_t.to(device), target_t.to(device)\n",
    "        outputs_t = net(data_t.float())\n",
    "        loss_t = criterion(outputs_t.float(), target_t.flatten().type(torch.LongTensor))\n",
    "        batch_loss += loss_t.item()\n",
    "        _,pred_t = torch.max(outputs_t.float(), dim=1)\n",
    "        correct_t += torch.sum(pred_t==target_t).item()\n",
    "        total_t += target_t.size(0)\n",
    "        pred_total.append(pred_t)\n",
    "        target_total.append(target_t)\n",
    "        print(pred_t)\n",
    "        print(target_t)\n",
    "        #torchpred_total = torch.cat(pred_t)\n",
    "        #torchtarget_total = torch.cat(target_t)\n",
    "        print(f'test loss: {np.mean(val_loss):.4f}, test acc: {(100 * correct_t/total_t):.4f}\\n')\n",
    "        print(f'corret: {correct_t:.4f}, total: {total_t:.4f}\\n')\n",
    "    val_acc.append(100 * correct_t/total_t)\n",
    "    val_loss.append(batch_loss/len(test_dataloader))\n",
    "    network_learned = batch_loss < valid_loss_min\n",
    "    print(f'test loss: {np.mean(val_loss):.4f}, test acc: {(100 * correct_t/total_t):.4f}\\n')\n",
    "    print(f'corret: {correct_t:.4f}, total: {total_t:.4f}\\n')\n",
    "torch.save(pred_total, 'pred_total.pt')\n",
    "torch.save(target_total, 'target_total.pt')\n",
    "#torch.save(torchpred_total, 'pred_total.pt')\n",
    "#torch.save(torchtarget_total, 'target_total.pt')"
   ]
  }
 ],
 "metadata": {
  "kernelspec": {
   "display_name": "Python 3",
   "language": "python",
   "name": "python3"
  },
  "language_info": {
   "codemirror_mode": {
    "name": "ipython",
    "version": 3
   },
   "file_extension": ".py",
   "mimetype": "text/x-python",
   "name": "python",
   "nbconvert_exporter": "python",
   "pygments_lexer": "ipython3",
   "version": "3.8.10"
  }
 },
 "nbformat": 4,
 "nbformat_minor": 5
}
